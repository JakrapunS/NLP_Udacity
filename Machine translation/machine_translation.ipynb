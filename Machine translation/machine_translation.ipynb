{
 "cells": [
  {
   "cell_type": "markdown",
   "metadata": {
    "collapsed": true
   },
   "source": [
    "# Artificial Intelligence Nanodegree\n",
    "## Machine Translation Project\n",
    "In this notebook, sections that end with **'(IMPLEMENTATION)'** in the header indicate that the following blocks of code will require additional functionality which you must provide. Please be sure to read the instructions carefully!\n",
    "\n",
    "## Introduction\n",
    "In this notebook, you will build a deep neural network that functions as part of an end-to-end machine translation pipeline. Your completed pipeline will accept English text as input and return the French translation.\n",
    "\n",
    "- **Preprocess** - You'll convert text to sequence of integers.\n",
    "- **Models** Create models which accepts a sequence of integers as input and returns a probability distribution over possible translations. After learning about the basic types of neural networks that are often used for machine translation, you will engage in your own investigations, to design your own model!\n",
    "- **Prediction** Run the model on English text."
   ]
  },
  {
   "cell_type": "code",
   "execution_count": 2,
   "metadata": {},
   "outputs": [],
   "source": [
    "%load_ext autoreload\n",
    "%aimport helper, tests\n",
    "%autoreload 1"
   ]
  },
  {
   "cell_type": "code",
   "execution_count": 3,
   "metadata": {},
   "outputs": [
    {
     "name": "stderr",
     "output_type": "stream",
     "text": [
      "Using TensorFlow backend.\n"
     ]
    }
   ],
   "source": [
    "import collections\n",
    "\n",
    "import helper\n",
    "import numpy as np\n",
    "import project_tests as tests\n",
    "\n",
    "from keras.preprocessing.text import Tokenizer\n",
    "from keras.preprocessing.sequence import pad_sequences\n",
    "from keras.models import Model, Sequential\n",
    "from keras.layers import GRU, Input, Dense, TimeDistributed, Activation, RepeatVector, Bidirectional\n",
    "from keras.layers.embeddings import Embedding\n",
    "from keras.optimizers import Adam\n",
    "from keras.losses import sparse_categorical_crossentropy"
   ]
  },
  {
   "cell_type": "markdown",
   "metadata": {},
   "source": [
    "### Verify access to the GPU\n",
    "The following test applies only if you expect to be using a GPU, e.g., while running in a Udacity Workspace or using an AWS instance with GPU support. Run the next cell, and verify that the device_type is \"GPU\".\n",
    "- If the device is not GPU & you are running from a Udacity Workspace, then save your workspace with the icon at the top, then click \"enable\" at the bottom of the workspace.\n",
    "- If the device is not GPU & you are running from an AWS instance, then refer to the cloud computing instructions in the classroom to verify your setup steps."
   ]
  },
  {
   "cell_type": "code",
   "execution_count": 4,
   "metadata": {},
   "outputs": [
    {
     "name": "stdout",
     "output_type": "stream",
     "text": [
      "[name: \"/cpu:0\"\n",
      "device_type: \"CPU\"\n",
      "memory_limit: 268435456\n",
      "locality {\n",
      "}\n",
      "incarnation: 3942650108421311858\n",
      ", name: \"/gpu:0\"\n",
      "device_type: \"GPU\"\n",
      "memory_limit: 357433344\n",
      "locality {\n",
      "  bus_id: 1\n",
      "}\n",
      "incarnation: 13981398445714377318\n",
      "physical_device_desc: \"device: 0, name: Tesla K80, pci bus id: 0000:00:04.0\"\n",
      "]\n"
     ]
    }
   ],
   "source": [
    "from tensorflow.python.client import device_lib\n",
    "print(device_lib.list_local_devices())"
   ]
  },
  {
   "cell_type": "markdown",
   "metadata": {},
   "source": [
    "## Dataset\n",
    "We begin by investigating the dataset that will be used to train and evaluate your pipeline.  The most common datasets used for machine translation are from [WMT](http://www.statmt.org/).  However, that will take a long time to train a neural network on.  We'll be using a dataset we created for this project that contains a small vocabulary.  You'll be able to train your model in a reasonable time with this dataset.\n",
    "### Load Data\n",
    "The data is located in `data/small_vocab_en` and `data/small_vocab_fr`. The `small_vocab_en` file contains English sentences with their French translations in the `small_vocab_fr` file. Load the English and French data from these files from running the cell below."
   ]
  },
  {
   "cell_type": "code",
   "execution_count": 5,
   "metadata": {},
   "outputs": [
    {
     "name": "stdout",
     "output_type": "stream",
     "text": [
      "Dataset Loaded\n"
     ]
    }
   ],
   "source": [
    "# Load English data\n",
    "english_sentences = helper.load_data('data/small_vocab_en')\n",
    "# Load French data\n",
    "french_sentences = helper.load_data('data/small_vocab_fr')\n",
    "\n",
    "print('Dataset Loaded')"
   ]
  },
  {
   "cell_type": "markdown",
   "metadata": {},
   "source": [
    "### Files\n",
    "Each line in `small_vocab_en` contains an English sentence with the respective translation in each line of `small_vocab_fr`.  View the first two lines from each file."
   ]
  },
  {
   "cell_type": "code",
   "execution_count": 6,
   "metadata": {},
   "outputs": [
    {
     "name": "stdout",
     "output_type": "stream",
     "text": [
      "small_vocab_en Line 1:  new jersey is sometimes quiet during autumn , and it is snowy in april .\n",
      "small_vocab_fr Line 1:  new jersey est parfois calme pendant l' automne , et il est neigeux en avril .\n",
      "small_vocab_en Line 2:  the united states is usually chilly during july , and it is usually freezing in november .\n",
      "small_vocab_fr Line 2:  les états-unis est généralement froid en juillet , et il gèle habituellement en novembre .\n"
     ]
    }
   ],
   "source": [
    "for sample_i in range(2):\n",
    "    print('small_vocab_en Line {}:  {}'.format(sample_i + 1, english_sentences[sample_i]))\n",
    "    print('small_vocab_fr Line {}:  {}'.format(sample_i + 1, french_sentences[sample_i]))"
   ]
  },
  {
   "cell_type": "markdown",
   "metadata": {},
   "source": [
    "From looking at the sentences, you can see they have been preprocessed already.  The puncuations have been delimited using spaces. All the text have been converted to lowercase.  This should save you some time, but the text requires more preprocessing.\n",
    "### Vocabulary\n",
    "The complexity of the problem is determined by the complexity of the vocabulary.  A more complex vocabulary is a more complex problem.  Let's look at the complexity of the dataset we'll be working with."
   ]
  },
  {
   "cell_type": "code",
   "execution_count": 7,
   "metadata": {},
   "outputs": [
    {
     "name": "stdout",
     "output_type": "stream",
     "text": [
      "1823250 English words.\n",
      "227 unique English words.\n",
      "10 Most common words in the English dataset:\n",
      "\"is\" \",\" \".\" \"in\" \"it\" \"during\" \"the\" \"but\" \"and\" \"sometimes\"\n",
      "\n",
      "1961295 French words.\n",
      "355 unique French words.\n",
      "10 Most common words in the French dataset:\n",
      "\"est\" \".\" \",\" \"en\" \"il\" \"les\" \"mais\" \"et\" \"la\" \"parfois\"\n"
     ]
    }
   ],
   "source": [
    "english_words_counter = collections.Counter([word for sentence in english_sentences for word in sentence.split()])\n",
    "french_words_counter = collections.Counter([word for sentence in french_sentences for word in sentence.split()])\n",
    "\n",
    "print('{} English words.'.format(len([word for sentence in english_sentences for word in sentence.split()])))\n",
    "print('{} unique English words.'.format(len(english_words_counter)))\n",
    "print('10 Most common words in the English dataset:')\n",
    "print('\"' + '\" \"'.join(list(zip(*english_words_counter.most_common(10)))[0]) + '\"')\n",
    "print()\n",
    "print('{} French words.'.format(len([word for sentence in french_sentences for word in sentence.split()])))\n",
    "print('{} unique French words.'.format(len(french_words_counter)))\n",
    "print('10 Most common words in the French dataset:')\n",
    "print('\"' + '\" \"'.join(list(zip(*french_words_counter.most_common(10)))[0]) + '\"')"
   ]
  },
  {
   "cell_type": "markdown",
   "metadata": {},
   "source": [
    "For comparison, _Alice's Adventures in Wonderland_ contains 2,766 unique words of a total of 15,500 words.\n",
    "## Preprocess\n",
    "For this project, you won't use text data as input to your model. Instead, you'll convert the text into sequences of integers using the following preprocess methods:\n",
    "1. Tokenize the words into ids\n",
    "2. Add padding to make all the sequences the same length.\n",
    "\n",
    "Time to start preprocessing the data...\n",
    "### Tokenize (IMPLEMENTATION)\n",
    "For a neural network to predict on text data, it first has to be turned into data it can understand. Text data like \"dog\" is a sequence of ASCII character encodings.  Since a neural network is a series of multiplication and addition operations, the input data needs to be number(s).\n",
    "\n",
    "We can turn each character into a number or each word into a number.  These are called character and word ids, respectively.  Character ids are used for character level models that generate text predictions for each character.  A word level model uses word ids that generate text predictions for each word.  Word level models tend to learn better, since they are lower in complexity, so we'll use those.\n",
    "\n",
    "Turn each sentence into a sequence of words ids using Keras's [`Tokenizer`](https://keras.io/preprocessing/text/#tokenizer) function. Use this function to tokenize `english_sentences` and `french_sentences` in the cell below.\n",
    "\n",
    "Running the cell will run `tokenize` on sample data and show output for debugging."
   ]
  },
  {
   "cell_type": "code",
   "execution_count": 8,
   "metadata": {},
   "outputs": [
    {
     "name": "stdout",
     "output_type": "stream",
     "text": [
      "{'the': 1, 'quick': 2, 'a': 3, 'brown': 4, 'fox': 5, 'jumps': 6, 'over': 7, 'lazy': 8, 'dog': 9, 'by': 10, 'jove': 11, 'my': 12, 'study': 13, 'of': 14, 'lexicography': 15, 'won': 16, 'prize': 17, 'this': 18, 'is': 19, 'short': 20, 'sentence': 21}\n",
      "\n",
      "Sequence 1 in x\n",
      "  Input:  The quick brown fox jumps over the lazy dog .\n",
      "  Output: [1, 2, 4, 5, 6, 7, 1, 8, 9]\n",
      "Sequence 2 in x\n",
      "  Input:  By Jove , my quick study of lexicography won a prize .\n",
      "  Output: [10, 11, 12, 2, 13, 14, 15, 16, 3, 17]\n",
      "Sequence 3 in x\n",
      "  Input:  This is a short sentence .\n",
      "  Output: [18, 19, 3, 20, 21]\n"
     ]
    }
   ],
   "source": [
    "def tokenize(x):\n",
    "    \"\"\"\n",
    "    Tokenize x\n",
    "    :param x: List of sentences/strings to be tokenized\n",
    "    :return: Tuple of (tokenized x data, tokenizer used to tokenize x)\n",
    "    \"\"\"\n",
    "    # TODO: Implement\n",
    "    x_tk = Tokenizer()\n",
    "    x_tk.fit_on_texts(x)\n",
    "    return x_tk.texts_to_sequences(x), x_tk\n",
    "tests.test_tokenize(tokenize)\n",
    "\n",
    "# Tokenize Example output\n",
    "text_sentences = [\n",
    "    'The quick brown fox jumps over the lazy dog .',\n",
    "    'By Jove , my quick study of lexicography won a prize .',\n",
    "    'This is a short sentence .']\n",
    "text_tokenized, text_tokenizer = tokenize(text_sentences)\n",
    "print(text_tokenizer.word_index)\n",
    "print()\n",
    "for sample_i, (sent, token_sent) in enumerate(zip(text_sentences, text_tokenized)):\n",
    "    print('Sequence {} in x'.format(sample_i + 1))\n",
    "    print('  Input:  {}'.format(sent))\n",
    "    print('  Output: {}'.format(token_sent))"
   ]
  },
  {
   "cell_type": "markdown",
   "metadata": {},
   "source": [
    "### Padding (IMPLEMENTATION)\n",
    "When batching the sequence of word ids together, each sequence needs to be the same length.  Since sentences are dynamic in length, we can add padding to the end of the sequences to make them the same length.\n",
    "\n",
    "Make sure all the English sequences have the same length and all the French sequences have the same length by adding padding to the **end** of each sequence using Keras's [`pad_sequences`](https://keras.io/preprocessing/sequence/#pad_sequences) function."
   ]
  },
  {
   "cell_type": "code",
   "execution_count": 9,
   "metadata": {},
   "outputs": [
    {
     "name": "stdout",
     "output_type": "stream",
     "text": [
      "Sequence 1 in x\n",
      "  Input:  [1 2 4 5 6 7 1 8 9]\n",
      "  Output: [1 2 4 5 6 7 1 8 9 0]\n",
      "Sequence 2 in x\n",
      "  Input:  [10 11 12  2 13 14 15 16  3 17]\n",
      "  Output: [10 11 12  2 13 14 15 16  3 17]\n",
      "Sequence 3 in x\n",
      "  Input:  [18 19  3 20 21]\n",
      "  Output: [18 19  3 20 21  0  0  0  0  0]\n"
     ]
    }
   ],
   "source": [
    "def pad(x, length=None):\n",
    "    \"\"\"\n",
    "    Pad x\n",
    "    :param x: List of sequences.\n",
    "    :param length: Length to pad the sequence to.  If None, use length of longest sequence in x.\n",
    "    :return: Padded numpy array of sequences\n",
    "    \"\"\"\n",
    "    # TODO: Implement\n",
    "    if length is None:\n",
    "        length = max([len(sentence) for sentence in x])\n",
    "    return pad_sequences(x, maxlen=length, padding='post')\n",
    "tests.test_pad(pad)\n",
    "\n",
    "# Pad Tokenized output\n",
    "test_pad = pad(text_tokenized)\n",
    "for sample_i, (token_sent, pad_sent) in enumerate(zip(text_tokenized, test_pad)):\n",
    "    print('Sequence {} in x'.format(sample_i + 1))\n",
    "    print('  Input:  {}'.format(np.array(token_sent)))\n",
    "    print('  Output: {}'.format(pad_sent))"
   ]
  },
  {
   "cell_type": "markdown",
   "metadata": {},
   "source": [
    "### Preprocess Pipeline\n",
    "Your focus for this project is to build neural network architecture, so we won't ask you to create a preprocess pipeline.  Instead, we've provided you with the implementation of the `preprocess` function."
   ]
  },
  {
   "cell_type": "code",
   "execution_count": 10,
   "metadata": {},
   "outputs": [
    {
     "name": "stdout",
     "output_type": "stream",
     "text": [
      "Data Preprocessed\n",
      "Max English sentence length: 15\n",
      "Max French sentence length: 21\n",
      "English vocabulary size: 199\n",
      "French vocabulary size: 344\n"
     ]
    }
   ],
   "source": [
    "def preprocess(x, y):\n",
    "    \"\"\"\n",
    "    Preprocess x and y\n",
    "    :param x: Feature List of sentences\n",
    "    :param y: Label List of sentences\n",
    "    :return: Tuple of (Preprocessed x, Preprocessed y, x tokenizer, y tokenizer)\n",
    "    \"\"\"\n",
    "    preprocess_x, x_tk = tokenize(x)\n",
    "    preprocess_y, y_tk = tokenize(y)\n",
    "\n",
    "    preprocess_x = pad(preprocess_x)\n",
    "    preprocess_y = pad(preprocess_y)\n",
    "\n",
    "    # Keras's sparse_categorical_crossentropy function requires the labels to be in 3 dimensions\n",
    "    preprocess_y = preprocess_y.reshape(*preprocess_y.shape, 1)\n",
    "\n",
    "    return preprocess_x, preprocess_y, x_tk, y_tk\n",
    "\n",
    "preproc_english_sentences, preproc_french_sentences, english_tokenizer, french_tokenizer =\\\n",
    "    preprocess(english_sentences, french_sentences)\n",
    "    \n",
    "max_english_sequence_length = preproc_english_sentences.shape[1]\n",
    "max_french_sequence_length = preproc_french_sentences.shape[1]\n",
    "english_vocab_size = len(english_tokenizer.word_index)\n",
    "french_vocab_size = len(french_tokenizer.word_index)\n",
    "\n",
    "print('Data Preprocessed')\n",
    "print(\"Max English sentence length:\", max_english_sequence_length)\n",
    "print(\"Max French sentence length:\", max_french_sequence_length)\n",
    "print(\"English vocabulary size:\", english_vocab_size)\n",
    "print(\"French vocabulary size:\", french_vocab_size)"
   ]
  },
  {
   "cell_type": "markdown",
   "metadata": {},
   "source": [
    "## Models\n",
    "In this section, you will experiment with various neural network architectures.\n",
    "You will begin by training four relatively simple architectures.\n",
    "- Model 1 is a simple RNN\n",
    "- Model 2 is a RNN with Embedding\n",
    "- Model 3 is a Bidirectional RNN\n",
    "- Model 4 is an optional Encoder-Decoder RNN\n",
    "\n",
    "After experimenting with the four simple architectures, you will construct a deeper architecture that is designed to outperform all four models.\n",
    "### Ids Back to Text\n",
    "The neural network will be translating the input to words ids, which isn't the final form we want.  We want the French translation.  The function `logits_to_text` will bridge the gab between the logits from the neural network to the French translation.  You'll be using this function to better understand the output of the neural network."
   ]
  },
  {
   "cell_type": "code",
   "execution_count": 11,
   "metadata": {},
   "outputs": [
    {
     "name": "stdout",
     "output_type": "stream",
     "text": [
      "`logits_to_text` function loaded.\n"
     ]
    }
   ],
   "source": [
    "def logits_to_text(logits, tokenizer):\n",
    "    \"\"\"\n",
    "    Turn logits from a neural network into text using the tokenizer\n",
    "    :param logits: Logits from a neural network\n",
    "    :param tokenizer: Keras Tokenizer fit on the labels\n",
    "    :return: String that represents the text of the logits\n",
    "    \"\"\"\n",
    "    index_to_words = {id: word for word, id in tokenizer.word_index.items()}\n",
    "    index_to_words[0] = '<PAD>'\n",
    "\n",
    "    return ' '.join([index_to_words[prediction] for prediction in np.argmax(logits, 1)])\n",
    "\n",
    "print('`logits_to_text` function loaded.')"
   ]
  },
  {
   "cell_type": "markdown",
   "metadata": {},
   "source": [
    "### Model 1: RNN (IMPLEMENTATION)\n",
    "![RNN](images/rnn.png)\n",
    "A basic RNN model is a good baseline for sequence data.  In this model, you'll build a RNN that translates English to French."
   ]
  },
  {
   "cell_type": "code",
   "execution_count": 14,
   "metadata": {},
   "outputs": [
    {
     "name": "stdout",
     "output_type": "stream",
     "text": [
      "Train on 110288 samples, validate on 27573 samples\n",
      "Epoch 1/20\n",
      "110288/110288 [==============================] - 8s 75us/step - loss: 3.5146 - acc: 0.4035 - val_loss: 2.5839 - val_acc: 0.4614\n",
      "Epoch 2/20\n",
      "110288/110288 [==============================] - 8s 70us/step - loss: 2.4668 - acc: 0.4702 - val_loss: 2.3435 - val_acc: 0.4801\n",
      "Epoch 3/20\n",
      "110288/110288 [==============================] - 8s 69us/step - loss: 2.2242 - acc: 0.4961 - val_loss: 2.0972 - val_acc: 0.5162\n",
      "Epoch 4/20\n",
      "110288/110288 [==============================] - 8s 70us/step - loss: 1.9850 - acc: 0.5465 - val_loss: 1.8800 - val_acc: 0.5622\n",
      "Epoch 5/20\n",
      "110288/110288 [==============================] - 8s 69us/step - loss: 1.8069 - acc: 0.5686 - val_loss: 1.7414 - val_acc: 0.5752\n",
      "Epoch 6/20\n",
      "110288/110288 [==============================] - 8s 69us/step - loss: 1.6963 - acc: 0.5795 - val_loss: 1.6548 - val_acc: 0.5832\n",
      "Epoch 7/20\n",
      "110288/110288 [==============================] - 8s 70us/step - loss: 1.6234 - acc: 0.5898 - val_loss: 1.5926 - val_acc: 0.5949\n",
      "Epoch 8/20\n",
      "110288/110288 [==============================] - 8s 70us/step - loss: 1.5678 - acc: 0.5961 - val_loss: 1.5431 - val_acc: 0.5991\n",
      "Epoch 9/20\n",
      "110288/110288 [==============================] - 8s 69us/step - loss: 1.5213 - acc: 0.6030 - val_loss: 1.4993 - val_acc: 0.6095\n",
      "Epoch 10/20\n",
      "110288/110288 [==============================] - 8s 69us/step - loss: 1.4792 - acc: 0.6115 - val_loss: 1.4592 - val_acc: 0.6130\n",
      "Epoch 11/20\n",
      "110288/110288 [==============================] - 8s 70us/step - loss: 1.4407 - acc: 0.6164 - val_loss: 1.4231 - val_acc: 0.6193\n",
      "Epoch 12/20\n",
      "110288/110288 [==============================] - 8s 69us/step - loss: 1.4064 - acc: 0.6208 - val_loss: 1.3904 - val_acc: 0.6235\n",
      "Epoch 13/20\n",
      "110288/110288 [==============================] - 8s 68us/step - loss: 1.3760 - acc: 0.6266 - val_loss: 1.3621 - val_acc: 0.6282\n",
      "Epoch 14/20\n",
      "110288/110288 [==============================] - 8s 71us/step - loss: 1.3491 - acc: 0.6301 - val_loss: 1.3363 - val_acc: 0.6324\n",
      "Epoch 15/20\n",
      "110288/110288 [==============================] - 10s 89us/step - loss: 1.3245 - acc: 0.6344 - val_loss: 1.3126 - val_acc: 0.6364\n",
      "Epoch 16/20\n",
      "110288/110288 [==============================] - 10s 88us/step - loss: 1.3016 - acc: 0.6393 - val_loss: 1.2903 - val_acc: 0.6398\n",
      "Epoch 17/20\n",
      "110288/110288 [==============================] - 10s 91us/step - loss: 1.2800 - acc: 0.6418 - val_loss: 1.2691 - val_acc: 0.6428\n",
      "Epoch 18/20\n",
      "110288/110288 [==============================] - 10s 90us/step - loss: 1.2597 - acc: 0.6446 - val_loss: 1.2500 - val_acc: 0.6449\n",
      "Epoch 19/20\n",
      "110288/110288 [==============================] - 10s 92us/step - loss: 1.2418 - acc: 0.6464 - val_loss: 1.2328 - val_acc: 0.6476\n",
      "Epoch 20/20\n",
      "110288/110288 [==============================] - 10s 89us/step - loss: 1.2257 - acc: 0.6491 - val_loss: 1.2181 - val_acc: 0.6506\n",
      "new jersey est parfois chaud en l' et il est est en en <PAD> <PAD> <PAD> <PAD> <PAD> <PAD> <PAD> <PAD>\n"
     ]
    }
   ],
   "source": [
    "def simple_model(input_shape, output_sequence_length, english_vocab_size, french_vocab_size):\n",
    "    \"\"\"\n",
    "    Build and train a basic RNN on x and y\n",
    "    :param input_shape: Tuple of input shape\n",
    "    :param output_sequence_length: Length of output sequence\n",
    "    :param english_vocab_size: Number of unique English words in the dataset\n",
    "    :param french_vocab_size: Number of unique French words in the dataset\n",
    "    :return: Keras model built, but not trained\n",
    "    \"\"\"\n",
    "    # TODO: Build the layers\n",
    "    learning_rate = 1e-3\n",
    "\n",
    "    input_seq = Input(input_shape[1:])\n",
    "    rnn = GRU(64, return_sequences=True)(input_seq)\n",
    "    logits = TimeDistributed(Dense(french_vocab_size))(rnn)\n",
    "    \n",
    "    model =  Model(input_seq, Activation('softmax')(logits))\n",
    "    model.compile(loss=sparse_categorical_crossentropy,\n",
    "                  optimizer=Adam(learning_rate),\n",
    "                  metrics=['accuracy'])\n",
    "    return model\n",
    "tests.test_simple_model(simple_model)\n",
    "\n",
    "# Reshaping the input to work with a basic RNN\n",
    "tmp_x = pad(preproc_english_sentences, max_french_sequence_length)\n",
    "tmp_x = tmp_x.reshape((-1, preproc_french_sentences.shape[-2], 1))\n",
    "\n",
    "# Train the neural network\n",
    "simple_rnn_model = simple_model(\n",
    "    tmp_x.shape,\n",
    "    max_french_sequence_length,\n",
    "    english_vocab_size+1,\n",
    "    french_vocab_size+1)\n",
    "\n",
    "simple_rnn_model.fit(tmp_x, preproc_french_sentences, batch_size=1024, epochs=20, validation_split=0.2)\n",
    "\n",
    "# Print prediction(s)\n",
    "print(logits_to_text(simple_rnn_model.predict(tmp_x[:1])[0], french_tokenizer))"
   ]
  },
  {
   "cell_type": "markdown",
   "metadata": {},
   "source": [
    "### Model 2: Embedding (IMPLEMENTATION)\n",
    "![RNN](images/embedding.png)\n",
    "You've turned the words into ids, but there's a better representation of a word.  This is called word embeddings.  An embedding is a vector representation of the word that is close to similar words in n-dimensional space, where the n represents the size of the embedding vectors.\n",
    "\n",
    "In this model, you'll create a RNN model using embedding."
   ]
  },
  {
   "cell_type": "code",
   "execution_count": 15,
   "metadata": {},
   "outputs": [
    {
     "name": "stdout",
     "output_type": "stream",
     "text": [
      "Train on 110288 samples, validate on 27573 samples\n",
      "Epoch 1/20\n",
      "110288/110288 [==============================] - 18s 162us/step - loss: 1.1878 - acc: 0.7283 - val_loss: 0.4365 - val_acc: 0.8676\n",
      "Epoch 2/20\n",
      "110288/110288 [==============================] - 17s 157us/step - loss: 0.3483 - acc: 0.8908 - val_loss: 0.2986 - val_acc: 0.9049\n",
      "Epoch 3/20\n",
      "110288/110288 [==============================] - 17s 157us/step - loss: 0.2690 - acc: 0.9128 - val_loss: 0.2513 - val_acc: 0.9171\n",
      "Epoch 4/20\n",
      "110288/110288 [==============================] - 17s 157us/step - loss: 0.2361 - acc: 0.9218 - val_loss: 0.2292 - val_acc: 0.9236\n",
      "Epoch 5/20\n",
      "110288/110288 [==============================] - 17s 157us/step - loss: 0.2175 - acc: 0.9266 - val_loss: 0.2185 - val_acc: 0.9268\n",
      "Epoch 6/20\n",
      "110288/110288 [==============================] - 17s 158us/step - loss: 0.2096 - acc: 0.9288 - val_loss: 0.2075 - val_acc: 0.9302\n",
      "Epoch 7/20\n",
      "110288/110288 [==============================] - 17s 157us/step - loss: 0.1984 - acc: 0.9317 - val_loss: 0.2013 - val_acc: 0.9307\n",
      "Epoch 8/20\n",
      "110288/110288 [==============================] - 17s 157us/step - loss: 0.1934 - acc: 0.9327 - val_loss: 0.2013 - val_acc: 0.9316\n",
      "Epoch 9/20\n",
      "110288/110288 [==============================] - 17s 157us/step - loss: 0.1903 - acc: 0.9334 - val_loss: 0.2008 - val_acc: 0.9313\n",
      "Epoch 10/20\n",
      "110288/110288 [==============================] - 17s 157us/step - loss: 0.1863 - acc: 0.9346 - val_loss: 0.1957 - val_acc: 0.9321\n",
      "Epoch 11/20\n",
      "110288/110288 [==============================] - 17s 157us/step - loss: 0.1852 - acc: 0.9347 - val_loss: 0.1988 - val_acc: 0.9323\n",
      "Epoch 12/20\n",
      "110288/110288 [==============================] - 17s 157us/step - loss: 0.1815 - acc: 0.9357 - val_loss: 0.1928 - val_acc: 0.9337\n",
      "Epoch 13/20\n",
      "110288/110288 [==============================] - 17s 158us/step - loss: 0.1775 - acc: 0.9367 - val_loss: 0.1925 - val_acc: 0.9340\n",
      "Epoch 14/20\n",
      "110288/110288 [==============================] - 17s 157us/step - loss: 0.1830 - acc: 0.9355 - val_loss: 0.1934 - val_acc: 0.9335\n",
      "Epoch 15/20\n",
      "110288/110288 [==============================] - 17s 156us/step - loss: 0.1758 - acc: 0.9370 - val_loss: 0.1906 - val_acc: 0.9340\n",
      "Epoch 16/20\n",
      "110288/110288 [==============================] - 17s 157us/step - loss: 0.1745 - acc: 0.9374 - val_loss: 0.1918 - val_acc: 0.9341\n",
      "Epoch 17/20\n",
      "110288/110288 [==============================] - 17s 157us/step - loss: 0.1756 - acc: 0.9369 - val_loss: 0.1882 - val_acc: 0.9348\n",
      "Epoch 18/20\n",
      "110288/110288 [==============================] - 17s 157us/step - loss: 0.1722 - acc: 0.9379 - val_loss: 0.1943 - val_acc: 0.9333\n",
      "Epoch 19/20\n",
      "110288/110288 [==============================] - 17s 156us/step - loss: 0.1743 - acc: 0.9374 - val_loss: 0.1867 - val_acc: 0.9349\n",
      "Epoch 20/20\n",
      "110288/110288 [==============================] - 17s 157us/step - loss: 0.1778 - acc: 0.9364 - val_loss: 0.2027 - val_acc: 0.9313\n",
      "new jersey est parfois calme en l' automne et il est neigeux en avril <PAD> <PAD> <PAD> <PAD> <PAD> <PAD> <PAD>\n"
     ]
    }
   ],
   "source": [
    "def embed_model(input_shape, output_sequence_length, english_vocab_size, french_vocab_size):\n",
    "    \"\"\"\n",
    "    Build and train a RNN model using word embedding on x and y\n",
    "    :param input_shape: Tuple of input shape\n",
    "    :param output_sequence_length: Length of output sequence\n",
    "    :param english_vocab_size: Number of unique English words in the dataset\n",
    "    :param french_vocab_size: Number of unique French words in the dataset\n",
    "    :return: Keras model built, but not trained\n",
    "    \"\"\"\n",
    "    # TODO: Implement\n",
    "    learning_rate = 3e-3\n",
    "\n",
    "    rnn = GRU(128, return_sequences=True)\n",
    "    logits = TimeDistributed(Dense(french_vocab_size,activation ='softmax'))\n",
    "    embeded = Embedding(english_vocab_size, 128, input_length=input_shape[1])\n",
    "    \n",
    "    model = Sequential()\n",
    "    model.add(embeded)\n",
    "    model.add(rnn)\n",
    "    model.add(logits)\n",
    "    model.compile(loss=sparse_categorical_crossentropy,\n",
    "                  optimizer=Adam(learning_rate),\n",
    "                  metrics=['accuracy'])\n",
    "    \n",
    "    return model\n",
    "tests.test_embed_model(embed_model)\n",
    "\n",
    "# TODO: Reshape the input\n",
    "tmp_x = pad(preproc_english_sentences, max_french_sequence_length)\n",
    "tmp_x = tmp_x.reshape((-1, preproc_french_sentences.shape[-2]))\n",
    "\n",
    "# TODO: Train the neural network\n",
    "embed_rnn_model = embed_model(\n",
    "    tmp_x.shape,\n",
    "    max_french_sequence_length,\n",
    "    english_vocab_size+1,\n",
    "    french_vocab_size+1)\n",
    "embed_rnn_model.fit(tmp_x, preproc_french_sentences, batch_size=256, epochs=20, validation_split=0.2)\n",
    "\n",
    "# TODO: Print prediction(s)\n",
    "print(logits_to_text(embed_rnn_model.predict(tmp_x[:1])[0], french_tokenizer))"
   ]
  },
  {
   "cell_type": "markdown",
   "metadata": {},
   "source": [
    "### Model 3: Bidirectional RNNs (IMPLEMENTATION)\n",
    "![RNN](images/bidirectional.png)\n",
    "One restriction of a RNN is that it can't see the future input, only the past.  This is where bidirectional recurrent neural networks come in.  They are able to see the future data."
   ]
  },
  {
   "cell_type": "code",
   "execution_count": 16,
   "metadata": {},
   "outputs": [
    {
     "name": "stdout",
     "output_type": "stream",
     "text": [
      "Train on 110288 samples, validate on 27573 samples\n",
      "Epoch 1/10\n",
      "110288/110288 [==============================] - 29s 259us/step - loss: 1.4035 - acc: 0.6309 - val_loss: 1.0498 - val_acc: 0.6807\n",
      "Epoch 2/10\n",
      "110288/110288 [==============================] - 26s 240us/step - loss: 0.9714 - acc: 0.6917 - val_loss: 0.9047 - val_acc: 0.7057\n",
      "Epoch 3/10\n",
      "110288/110288 [==============================] - 26s 239us/step - loss: 0.8623 - acc: 0.7095 - val_loss: 0.8297 - val_acc: 0.7148\n",
      "Epoch 4/10\n",
      "110288/110288 [==============================] - 26s 238us/step - loss: 0.7947 - acc: 0.7233 - val_loss: 0.7691 - val_acc: 0.7325\n",
      "Epoch 5/10\n",
      "110288/110288 [==============================] - 26s 238us/step - loss: 0.7473 - acc: 0.7389 - val_loss: 0.7207 - val_acc: 0.7508\n",
      "Epoch 6/10\n",
      "110288/110288 [==============================] - 26s 240us/step - loss: 0.7048 - acc: 0.7567 - val_loss: 0.6816 - val_acc: 0.7675\n",
      "Epoch 7/10\n",
      "110288/110288 [==============================] - 26s 239us/step - loss: 0.6599 - acc: 0.7747 - val_loss: 0.6425 - val_acc: 0.7810\n",
      "Epoch 8/10\n",
      "110288/110288 [==============================] - 26s 240us/step - loss: 0.6216 - acc: 0.7896 - val_loss: 0.6045 - val_acc: 0.7957\n",
      "Epoch 9/10\n",
      "110288/110288 [==============================] - 26s 240us/step - loss: 0.5926 - acc: 0.8023 - val_loss: 0.5774 - val_acc: 0.8101\n",
      "Epoch 10/10\n",
      "110288/110288 [==============================] - 26s 240us/step - loss: 0.5708 - acc: 0.8098 - val_loss: 0.5579 - val_acc: 0.8174\n",
      "new jersey est parfois calme pendant mois de mai est neigeux est avril <PAD> <PAD> <PAD> <PAD> <PAD> <PAD> <PAD> <PAD>\n"
     ]
    }
   ],
   "source": [
    "def bd_model(input_shape, output_sequence_length, english_vocab_size, french_vocab_size):\n",
    "    \"\"\"\n",
    "    Build and train a bidirectional RNN model on x and y\n",
    "    :param input_shape: Tuple of input shape\n",
    "    :param output_sequence_length: Length of output sequence\n",
    "    :param english_vocab_size: Number of unique English words in the dataset\n",
    "    :param french_vocab_size: Number of unique French words in the dataset\n",
    "    :return: Keras model built, but not trained\n",
    "    \"\"\"\n",
    "    # TODO: Implement\n",
    "    learning_rate = 3e-3\n",
    "\n",
    "    rnn = GRU(128, return_sequences=True)\n",
    "    bd = Bidirectional(rnn, input_shape = input_shape[1:])\n",
    "    logits = TimeDistributed(Dense(french_vocab_size,activation ='softmax'))\n",
    "    \n",
    "    \n",
    "    model = Sequential()\n",
    "    model.add(bd)\n",
    "    model.add(logits)\n",
    "    model.compile(loss='sparse_categorical_crossentropy',\n",
    "                  optimizer=Adam(learning_rate),\n",
    "                  metrics=['accuracy'])\n",
    "    return model\n",
    "tests.test_bd_model(bd_model)\n",
    "\n",
    "\n",
    "# TODO: Reshape the input\n",
    "tmp_x = pad(preproc_english_sentences, max_french_sequence_length)\n",
    "tmp_x = tmp_x.reshape((-1, preproc_french_sentences.shape[-2],1))\n",
    "\n",
    "# TODO: Train the neural network\n",
    "bd_rnn_model = bd_model(\n",
    "    tmp_x.shape,\n",
    "    max_french_sequence_length,\n",
    "    english_vocab_size+1,\n",
    "    french_vocab_size+1)\n",
    "bd_rnn_model.fit(tmp_x, preproc_french_sentences, batch_size=256, epochs=10, validation_split=0.2)\n",
    "\n",
    "# TODO: Print prediction(s)\n",
    "print(logits_to_text(bd_rnn_model.predict(tmp_x[:1])[0], french_tokenizer))"
   ]
  },
  {
   "cell_type": "code",
   "execution_count": 14,
   "metadata": {},
   "outputs": [
    {
     "name": "stdout",
     "output_type": "stream",
     "text": [
      "_________________________________________________________________\n",
      "Layer (type)                 Output Shape              Param #   \n",
      "=================================================================\n",
      "bidirectional_2 (Bidirection (None, 21, 256)           99840     \n",
      "_________________________________________________________________\n",
      "time_distributed_6 (TimeDist (None, 21, 344)           88408     \n",
      "=================================================================\n",
      "Total params: 188,248\n",
      "Trainable params: 188,248\n",
      "Non-trainable params: 0\n",
      "_________________________________________________________________\n"
     ]
    }
   ],
   "source": [
    "bd_rnn_model.summary()"
   ]
  },
  {
   "cell_type": "markdown",
   "metadata": {},
   "source": [
    "### Model 4: Encoder-Decoder (OPTIONAL)\n",
    "Time to look at encoder-decoder models.  This model is made up of an encoder and decoder. The encoder creates a matrix representation of the sentence.  The decoder takes this matrix as input and predicts the translation as output.\n",
    "\n",
    "Create an encoder-decoder model in the cell below."
   ]
  },
  {
   "cell_type": "code",
   "execution_count": 15,
   "metadata": {},
   "outputs": [
    {
     "ename": "AttributeError",
     "evalue": "'NoneType' object has no attribute 'input_shape'",
     "output_type": "error",
     "traceback": [
      "\u001b[0;31m---------------------------------------------------------------------------\u001b[0m",
      "\u001b[0;31mAttributeError\u001b[0m                            Traceback (most recent call last)",
      "\u001b[0;32m<ipython-input-15-00e3f8105cdc>\u001b[0m in \u001b[0;36m<module>\u001b[0;34m()\u001b[0m\n\u001b[1;32m     10\u001b[0m     \u001b[0;31m# OPTIONAL: Implement\u001b[0m\u001b[0;34m\u001b[0m\u001b[0;34m\u001b[0m\u001b[0m\n\u001b[1;32m     11\u001b[0m     \u001b[0;32mreturn\u001b[0m \u001b[0;32mNone\u001b[0m\u001b[0;34m\u001b[0m\u001b[0m\n\u001b[0;32m---> 12\u001b[0;31m \u001b[0mtests\u001b[0m\u001b[0;34m.\u001b[0m\u001b[0mtest_encdec_model\u001b[0m\u001b[0;34m(\u001b[0m\u001b[0mencdec_model\u001b[0m\u001b[0;34m)\u001b[0m\u001b[0;34m\u001b[0m\u001b[0m\n\u001b[0m\u001b[1;32m     13\u001b[0m \u001b[0;34m\u001b[0m\u001b[0m\n\u001b[1;32m     14\u001b[0m \u001b[0;34m\u001b[0m\u001b[0m\n",
      "\u001b[0;32m/home/workspace/project_tests.py\u001b[0m in \u001b[0;36mtest_encdec_model\u001b[0;34m(encdec_model)\u001b[0m\n\u001b[1;32m     81\u001b[0m \u001b[0;34m\u001b[0m\u001b[0m\n\u001b[1;32m     82\u001b[0m     \u001b[0mmodel\u001b[0m \u001b[0;34m=\u001b[0m \u001b[0mencdec_model\u001b[0m\u001b[0;34m(\u001b[0m\u001b[0minput_shape\u001b[0m\u001b[0;34m,\u001b[0m \u001b[0moutput_sequence_length\u001b[0m\u001b[0;34m,\u001b[0m \u001b[0menglish_vocab_size\u001b[0m\u001b[0;34m,\u001b[0m \u001b[0mfrench_vocab_size\u001b[0m\u001b[0;34m)\u001b[0m\u001b[0;34m\u001b[0m\u001b[0m\n\u001b[0;32m---> 83\u001b[0;31m     \u001b[0m_test_model\u001b[0m\u001b[0;34m(\u001b[0m\u001b[0mmodel\u001b[0m\u001b[0;34m,\u001b[0m \u001b[0minput_shape\u001b[0m\u001b[0;34m,\u001b[0m \u001b[0moutput_sequence_length\u001b[0m\u001b[0;34m,\u001b[0m \u001b[0mfrench_vocab_size\u001b[0m\u001b[0;34m)\u001b[0m\u001b[0;34m\u001b[0m\u001b[0m\n\u001b[0m\u001b[1;32m     84\u001b[0m \u001b[0;34m\u001b[0m\u001b[0m\n\u001b[1;32m     85\u001b[0m \u001b[0;34m\u001b[0m\u001b[0m\n",
      "\u001b[0;32m/home/workspace/project_tests.py\u001b[0m in \u001b[0;36m_test_model\u001b[0;34m(model, input_shape, output_sequence_length, french_vocab_size)\u001b[0m\n\u001b[1;32m     10\u001b[0m         \u001b[0mmodel\u001b[0m \u001b[0;34m=\u001b[0m \u001b[0mmodel\u001b[0m\u001b[0;34m.\u001b[0m\u001b[0mmodel\u001b[0m\u001b[0;34m\u001b[0m\u001b[0m\n\u001b[1;32m     11\u001b[0m \u001b[0;34m\u001b[0m\u001b[0m\n\u001b[0;32m---> 12\u001b[0;31m     \u001b[0;32massert\u001b[0m \u001b[0mmodel\u001b[0m\u001b[0;34m.\u001b[0m\u001b[0minput_shape\u001b[0m \u001b[0;34m==\u001b[0m \u001b[0;34m(\u001b[0m\u001b[0;32mNone\u001b[0m\u001b[0;34m,\u001b[0m \u001b[0;34m*\u001b[0m\u001b[0minput_shape\u001b[0m\u001b[0;34m[\u001b[0m\u001b[0;36m1\u001b[0m\u001b[0;34m:\u001b[0m\u001b[0;34m]\u001b[0m\u001b[0;34m)\u001b[0m\u001b[0;34m,\u001b[0m\u001b[0;31m\\\u001b[0m\u001b[0;34m\u001b[0m\u001b[0m\n\u001b[0m\u001b[1;32m     13\u001b[0m         \u001b[0;34m'Wrong input shape. Found input shape {} using parameter input_shape={}'\u001b[0m\u001b[0;34m.\u001b[0m\u001b[0mformat\u001b[0m\u001b[0;34m(\u001b[0m\u001b[0mmodel\u001b[0m\u001b[0;34m.\u001b[0m\u001b[0minput_shape\u001b[0m\u001b[0;34m,\u001b[0m \u001b[0minput_shape\u001b[0m\u001b[0;34m)\u001b[0m\u001b[0;34m\u001b[0m\u001b[0m\n\u001b[1;32m     14\u001b[0m \u001b[0;34m\u001b[0m\u001b[0m\n",
      "\u001b[0;31mAttributeError\u001b[0m: 'NoneType' object has no attribute 'input_shape'"
     ]
    }
   ],
   "source": [
    "def encdec_model(input_shape, output_sequence_length, english_vocab_size, french_vocab_size):\n",
    "    \"\"\"\n",
    "    Build and train an encoder-decoder model on x and y\n",
    "    :param input_shape: Tuple of input shape\n",
    "    :param output_sequence_length: Length of output sequence\n",
    "    :param english_vocab_size: Number of unique English words in the dataset\n",
    "    :param french_vocab_size: Number of unique French words in the dataset\n",
    "    :return: Keras model built, but not trained\n",
    "    \"\"\"\n",
    "    # OPTIONAL: Implement\n",
    "    return None\n",
    "tests.test_encdec_model(encdec_model)\n",
    "\n",
    "\n",
    "# OPTIONAL: Train and Print prediction(s)"
   ]
  },
  {
   "cell_type": "markdown",
   "metadata": {},
   "source": [
    "### Model 5: Custom (IMPLEMENTATION)\n",
    "Use everything you learned from the previous models to create a model that incorporates embedding and a bidirectional rnn into one model."
   ]
  },
  {
   "cell_type": "code",
   "execution_count": 18,
   "metadata": {},
   "outputs": [
    {
     "name": "stdout",
     "output_type": "stream",
     "text": [
      "Final Model Loaded\n",
      "Train on 110288 samples, validate on 27573 samples\n",
      "Epoch 1/30\n",
      "110288/110288 [==============================] - 31s 282us/step - loss: 1.0183 - acc: 0.7565 - val_loss: 0.3416 - val_acc: 0.8930\n",
      "Epoch 2/30\n",
      "110288/110288 [==============================] - 30s 272us/step - loss: 0.2445 - acc: 0.9249 - val_loss: 0.1896 - val_acc: 0.9423\n",
      "Epoch 3/30\n",
      "110288/110288 [==============================] - 30s 271us/step - loss: 0.1579 - acc: 0.9520 - val_loss: 0.1442 - val_acc: 0.9566\n",
      "Epoch 4/30\n",
      "110288/110288 [==============================] - 30s 272us/step - loss: 0.1216 - acc: 0.9630 - val_loss: 0.1133 - val_acc: 0.9660\n",
      "Epoch 5/30\n",
      "110288/110288 [==============================] - 30s 270us/step - loss: 0.1015 - acc: 0.9690 - val_loss: 0.1024 - val_acc: 0.9694\n",
      "Epoch 6/30\n",
      "110288/110288 [==============================] - 30s 273us/step - loss: 0.0870 - acc: 0.9732 - val_loss: 0.0966 - val_acc: 0.9711\n",
      "Epoch 7/30\n",
      "110288/110288 [==============================] - 30s 271us/step - loss: 0.0793 - acc: 0.9756 - val_loss: 0.0868 - val_acc: 0.9741\n",
      "Epoch 8/30\n",
      "110288/110288 [==============================] - 30s 272us/step - loss: 0.0734 - acc: 0.9773 - val_loss: 0.0843 - val_acc: 0.9747\n",
      "Epoch 9/30\n",
      "110288/110288 [==============================] - 30s 271us/step - loss: 0.0712 - acc: 0.9780 - val_loss: 0.0847 - val_acc: 0.9750\n",
      "Epoch 10/30\n",
      "110288/110288 [==============================] - 30s 272us/step - loss: 0.0683 - acc: 0.9789 - val_loss: 0.0823 - val_acc: 0.9762\n",
      "Epoch 11/30\n",
      "110288/110288 [==============================] - 30s 269us/step - loss: 0.0630 - acc: 0.9804 - val_loss: 0.0837 - val_acc: 0.9748\n",
      "Epoch 12/30\n",
      "110288/110288 [==============================] - 30s 269us/step - loss: 0.0578 - acc: 0.9821 - val_loss: 0.0761 - val_acc: 0.9778\n",
      "Epoch 13/30\n",
      "110288/110288 [==============================] - 30s 269us/step - loss: 0.0588 - acc: 0.9817 - val_loss: 0.0851 - val_acc: 0.9755\n",
      "Epoch 14/30\n",
      "110288/110288 [==============================] - 30s 269us/step - loss: 0.0555 - acc: 0.9828 - val_loss: 0.0831 - val_acc: 0.9765\n",
      "Epoch 15/30\n",
      "110288/110288 [==============================] - 30s 268us/step - loss: 0.0636 - acc: 0.9803 - val_loss: 0.0794 - val_acc: 0.9777\n",
      "Epoch 16/30\n",
      "110288/110288 [==============================] - 30s 269us/step - loss: 0.0524 - acc: 0.9837 - val_loss: 0.0741 - val_acc: 0.9791\n",
      "Epoch 17/30\n",
      "110288/110288 [==============================] - 30s 269us/step - loss: 0.0526 - acc: 0.9835 - val_loss: 0.0774 - val_acc: 0.9781\n",
      "Epoch 18/30\n",
      "110288/110288 [==============================] - 30s 269us/step - loss: 0.0487 - acc: 0.9847 - val_loss: 0.0792 - val_acc: 0.9782\n",
      "Epoch 19/30\n",
      "110288/110288 [==============================] - 30s 268us/step - loss: 0.0486 - acc: 0.9847 - val_loss: 0.0758 - val_acc: 0.9791\n",
      "Epoch 20/30\n",
      "110288/110288 [==============================] - 30s 269us/step - loss: 0.0538 - acc: 0.9833 - val_loss: 0.0833 - val_acc: 0.9771\n",
      "Epoch 21/30\n",
      "110288/110288 [==============================] - 30s 273us/step - loss: 0.0503 - acc: 0.9843 - val_loss: 0.0748 - val_acc: 0.9792\n",
      "Epoch 22/30\n",
      "110288/110288 [==============================] - 30s 273us/step - loss: 0.0499 - acc: 0.9844 - val_loss: 0.0779 - val_acc: 0.9782\n",
      "Epoch 23/30\n",
      "110288/110288 [==============================] - 30s 270us/step - loss: 0.0486 - acc: 0.9848 - val_loss: 0.0770 - val_acc: 0.9788\n",
      "Epoch 24/30\n",
      "110288/110288 [==============================] - 30s 269us/step - loss: 0.0445 - acc: 0.9861 - val_loss: 0.1052 - val_acc: 0.9715\n",
      "Epoch 25/30\n",
      "110288/110288 [==============================] - 30s 269us/step - loss: 0.0528 - acc: 0.9835 - val_loss: 0.0776 - val_acc: 0.9780\n",
      "Epoch 26/30\n",
      "110288/110288 [==============================] - 30s 269us/step - loss: 0.0452 - acc: 0.9859 - val_loss: 0.0740 - val_acc: 0.9798\n",
      "Epoch 27/30\n",
      "110288/110288 [==============================] - 30s 269us/step - loss: 0.0433 - acc: 0.9862 - val_loss: 0.0759 - val_acc: 0.9797\n",
      "Epoch 28/30\n",
      "110288/110288 [==============================] - 30s 268us/step - loss: 0.0533 - acc: 0.9836 - val_loss: 0.0845 - val_acc: 0.9767\n",
      "Epoch 29/30\n",
      "110288/110288 [==============================] - 30s 268us/step - loss: 0.0474 - acc: 0.9852 - val_loss: 0.0784 - val_acc: 0.9785\n",
      "Epoch 30/30\n",
      "110288/110288 [==============================] - 30s 269us/step - loss: 0.0476 - acc: 0.9851 - val_loss: 0.0791 - val_acc: 0.9783\n",
      "new jersey est parfois calme pendant l' automne et il est il est avril <PAD> <PAD> <PAD> <PAD> <PAD> <PAD> <PAD>\n"
     ]
    }
   ],
   "source": [
    "def model_final(input_shape, output_sequence_length, english_vocab_size, french_vocab_size):\n",
    "    \"\"\"\n",
    "    Build and train a model that incorporates embedding, encoder-decoder, and bidirectional RNN on x and y\n",
    "    :param input_shape: Tuple of input shape\n",
    "    :param output_sequence_length: Length of output sequence\n",
    "    :param english_vocab_size: Number of unique English words in the dataset\n",
    "    :param french_vocab_size: Number of unique French words in the dataset\n",
    "    :return: Keras model built, but not trained\n",
    "    \"\"\"\n",
    "    # TODO: Implement\n",
    "    learning_rate = 3e-3\n",
    "\n",
    "    embeded = Embedding(english_vocab_size, 128, input_length=output_sequence_length,input_shape=(input_shape[1:]))\n",
    "    rnn = GRU(128, return_sequences=True)\n",
    "    bd = Bidirectional(rnn)\n",
    "    logits = TimeDistributed(Dense(french_vocab_size,activation ='softmax'))\n",
    "    \n",
    "    \n",
    "    model = Sequential()\n",
    "    model.add(embeded)\n",
    "    model.add(bd)\n",
    "    model.add(logits)\n",
    "    model.compile(loss='sparse_categorical_crossentropy',\n",
    "                  optimizer=Adam(learning_rate),\n",
    "                  metrics=['accuracy'])\n",
    "    #print(model.summary())\n",
    "    return model\n",
    "tests.test_model_final(model_final)\n",
    "\n",
    "\n",
    "print('Final Model Loaded')\n",
    "# TODO: Reshape the input\n",
    "tmp_x = pad(preproc_english_sentences, max_french_sequence_length)\n",
    "tmp_x = tmp_x.reshape((-1, preproc_french_sentences.shape[-2]))\n",
    "\n",
    "# TODO: Train the neural network\n",
    "final_rnn_model = model_final(\n",
    "    tmp_x.shape,\n",
    "    max_french_sequence_length,\n",
    "    english_vocab_size+1,\n",
    "    french_vocab_size+1)\n",
    "final_rnn_model.fit(tmp_x, preproc_french_sentences, batch_size=256, epochs=30, validation_split=0.2)\n",
    "\n",
    "# TODO: Print prediction(s)\n",
    "print(logits_to_text(final_rnn_model.predict(tmp_x[:1])[0], french_tokenizer))"
   ]
  },
  {
   "cell_type": "markdown",
   "metadata": {},
   "source": [
    "## Prediction (IMPLEMENTATION)"
   ]
  },
  {
   "cell_type": "code",
   "execution_count": 19,
   "metadata": {},
   "outputs": [
    {
     "name": "stdout",
     "output_type": "stream",
     "text": [
      "Train on 110288 samples, validate on 27573 samples\n",
      "Epoch 1/30\n",
      "110288/110288 [==============================] - 31s 281us/step - loss: 1.0264 - acc: 0.7572 - val_loss: nan - val_acc: 0.8989\n",
      "Epoch 2/30\n",
      "110288/110288 [==============================] - 30s 269us/step - loss: 0.2461 - acc: 0.9250 - val_loss: nan - val_acc: 0.9437\n",
      "Epoch 3/30\n",
      "110288/110288 [==============================] - 30s 273us/step - loss: 0.1588 - acc: 0.9519 - val_loss: nan - val_acc: 0.9568\n",
      "Epoch 4/30\n",
      "110288/110288 [==============================] - 30s 273us/step - loss: 0.1219 - acc: 0.9627 - val_loss: nan - val_acc: 0.9658\n",
      "Epoch 5/30\n",
      "110288/110288 [==============================] - 30s 274us/step - loss: 0.1014 - acc: 0.9690 - val_loss: nan - val_acc: 0.9685\n",
      "Epoch 6/30\n",
      "110288/110288 [==============================] - 30s 273us/step - loss: 0.0902 - acc: 0.9723 - val_loss: nan - val_acc: 0.9723\n",
      "Epoch 7/30\n",
      "110288/110288 [==============================] - 30s 273us/step - loss: 0.0809 - acc: 0.9752 - val_loss: nan - val_acc: 0.9735\n",
      "Epoch 8/30\n",
      "110288/110288 [==============================] - 30s 273us/step - loss: 0.0764 - acc: 0.9764 - val_loss: nan - val_acc: 0.9745\n",
      "Epoch 9/30\n",
      "110288/110288 [==============================] - 30s 273us/step - loss: 0.0712 - acc: 0.9781 - val_loss: nan - val_acc: 0.9754\n",
      "Epoch 10/30\n",
      "110288/110288 [==============================] - 30s 273us/step - loss: 0.0647 - acc: 0.9801 - val_loss: nan - val_acc: 0.9758\n",
      "Epoch 11/30\n",
      "110288/110288 [==============================] - 30s 274us/step - loss: 0.0636 - acc: 0.9803 - val_loss: nan - val_acc: 0.9768\n",
      "Epoch 12/30\n",
      "110288/110288 [==============================] - 30s 272us/step - loss: 0.0594 - acc: 0.9816 - val_loss: nan - val_acc: 0.9770\n",
      "Epoch 13/30\n",
      "110288/110288 [==============================] - 30s 274us/step - loss: 0.0578 - acc: 0.9819 - val_loss: nan - val_acc: 0.9769\n",
      "Epoch 14/30\n",
      "110288/110288 [==============================] - 30s 273us/step - loss: 0.0596 - acc: 0.9816 - val_loss: nan - val_acc: 0.9765\n",
      "Epoch 15/30\n",
      "110288/110288 [==============================] - 30s 273us/step - loss: 0.0582 - acc: 0.9819 - val_loss: nan - val_acc: 0.9772\n",
      "Epoch 16/30\n",
      "110288/110288 [==============================] - 30s 273us/step - loss: 0.0552 - acc: 0.9829 - val_loss: nan - val_acc: 0.9785\n",
      "Epoch 17/30\n",
      "110288/110288 [==============================] - 30s 273us/step - loss: 0.0606 - acc: 0.9812 - val_loss: nan - val_acc: 0.9775\n",
      "Epoch 18/30\n",
      "110288/110288 [==============================] - 30s 271us/step - loss: 0.0493 - acc: 0.9846 - val_loss: nan - val_acc: 0.9787\n",
      "Epoch 19/30\n",
      "110288/110288 [==============================] - 30s 272us/step - loss: 0.0498 - acc: 0.9844 - val_loss: nan - val_acc: 0.9775\n",
      "Epoch 20/30\n",
      "110288/110288 [==============================] - 30s 272us/step - loss: 0.0513 - acc: 0.9840 - val_loss: nan - val_acc: 0.9787\n",
      "Epoch 21/30\n",
      "110288/110288 [==============================] - 30s 274us/step - loss: 0.0463 - acc: 0.9854 - val_loss: nan - val_acc: 0.9795\n",
      "Epoch 22/30\n",
      "110288/110288 [==============================] - 30s 272us/step - loss: 0.0483 - acc: 0.9851 - val_loss: nan - val_acc: 0.9781\n",
      "Epoch 23/30\n",
      "110288/110288 [==============================] - 30s 273us/step - loss: 0.0455 - acc: 0.9858 - val_loss: nan - val_acc: 0.9767\n",
      "Epoch 24/30\n",
      "110288/110288 [==============================] - 30s 273us/step - loss: 0.0463 - acc: 0.9855 - val_loss: nan - val_acc: 0.9782\n",
      "Epoch 25/30\n",
      "110288/110288 [==============================] - 30s 273us/step - loss: 0.0484 - acc: 0.9848 - val_loss: nan - val_acc: 0.9792\n",
      "Epoch 26/30\n",
      "110288/110288 [==============================] - 30s 272us/step - loss: 0.0482 - acc: 0.9851 - val_loss: nan - val_acc: 0.9765\n",
      "Epoch 27/30\n",
      "110288/110288 [==============================] - 30s 272us/step - loss: 0.0529 - acc: 0.9838 - val_loss: nan - val_acc: 0.9779\n",
      "Epoch 28/30\n",
      "110288/110288 [==============================] - 30s 272us/step - loss: 0.0450 - acc: 0.9860 - val_loss: nan - val_acc: 0.9797\n",
      "Epoch 29/30\n",
      "110288/110288 [==============================] - 30s 273us/step - loss: 0.0414 - acc: 0.9870 - val_loss: nan - val_acc: 0.9789\n",
      "Epoch 30/30\n",
      "110288/110288 [==============================] - 30s 273us/step - loss: 0.0422 - acc: 0.9868 - val_loss: nan - val_acc: 0.9801\n",
      "Sample 1:\n",
      "il a vu un vieux camion jaune <PAD> <PAD> <PAD> <PAD> <PAD> <PAD> <PAD> <PAD> <PAD> <PAD> <PAD> <PAD> <PAD> <PAD>\n",
      "Il a vu un vieux camion jaune\n",
      "Sample 2:\n",
      "new jersey est parfois calme pendant l' automne et il est neigeux en avril <PAD> <PAD> <PAD> <PAD> <PAD> <PAD> <PAD>\n",
      "new jersey est parfois calme pendant l' automne et il est neigeux en avril <PAD> <PAD> <PAD> <PAD> <PAD> <PAD> <PAD>\n"
     ]
    }
   ],
   "source": [
    "def final_predictions(x, y, x_tk, y_tk):\n",
    "    \"\"\"\n",
    "    Gets predictions using the final model\n",
    "    :param x: Preprocessed English data\n",
    "    :param y: Preprocessed French data\n",
    "    :param x_tk: English tokenizer\n",
    "    :param y_tk: French tokenizer\n",
    "    \"\"\"\n",
    "    # TODO: Train neural network using model_final\n",
    "    \n",
    "    x = pad(x, max_french_sequence_length)\n",
    "    x = x.reshape((-1, y.shape[-2]))\n",
    "\n",
    "    model = model_final(\n",
    "    x.shape,\n",
    "    max_french_sequence_length,\n",
    "    english_vocab_size,\n",
    "    french_vocab_size)\n",
    "    \n",
    "    model.fit(x, y, batch_size=256, epochs=30, validation_split=0.2)\n",
    "    \n",
    "    ## DON'T EDIT ANYTHING BELOW THIS LINE\n",
    "    y_id_to_word = {value: key for key, value in y_tk.word_index.items()}\n",
    "    y_id_to_word[0] = '<PAD>'\n",
    "\n",
    "    sentence = 'he saw a old yellow truck'\n",
    "    sentence = [x_tk.word_index[word] for word in sentence.split()]\n",
    "    sentence = pad_sequences([sentence], maxlen=x.shape[-1], padding='post')\n",
    "    sentences = np.array([sentence[0], x[0]])\n",
    "    predictions = model.predict(sentences, len(sentences))\n",
    "\n",
    "    print('Sample 1:')\n",
    "    print(' '.join([y_id_to_word[np.argmax(x)] for x in predictions[0]]))\n",
    "    print('Il a vu un vieux camion jaune')\n",
    "    print('Sample 2:')\n",
    "    print(' '.join([y_id_to_word[np.argmax(x)] for x in predictions[1]]))\n",
    "    print(' '.join([y_id_to_word[np.max(x)] for x in y[0]]))\n",
    "\n",
    "\n",
    "final_predictions(preproc_english_sentences, preproc_french_sentences, english_tokenizer, french_tokenizer)"
   ]
  },
  {
   "cell_type": "markdown",
   "metadata": {},
   "source": [
    "## Submission\n",
    "When you're ready to submit, complete the following steps:\n",
    "1. Review the [rubric](https://review.udacity.com/#!/rubrics/1004/view) to ensure your submission meets all requirements to pass\n",
    "2. Generate an HTML version of this notebook\n",
    "\n",
    "  - Run the next cell to attempt automatic generation (this is the recommended method in Workspaces)\n",
    "  - Navigate to **FILE -> Download as -> HTML (.html)**\n",
    "  - Manually generate a copy using `nbconvert` from your shell terminal\n",
    "```\n",
    "$ pip install nbconvert\n",
    "$ python -m nbconvert machine_translation.ipynb\n",
    "```\n",
    "  \n",
    "3. Submit the project\n",
    "\n",
    "  - If you are in a Workspace, simply click the \"Submit Project\" button (bottom towards the right)\n",
    "  \n",
    "  - Otherwise, add the following files into a zip archive and submit them \n",
    "  - `helper.py`\n",
    "  - `machine_translation.ipynb`\n",
    "  - `machine_translation.html`\n",
    "    - You can export the notebook by navigating to **File -> Download as -> HTML (.html)**."
   ]
  },
  {
   "cell_type": "markdown",
   "metadata": {},
   "source": [
    "### Generate the html\n",
    "\n",
    "**Save your notebook before running the next cell to generate the HTML output.** Then submit your project."
   ]
  },
  {
   "cell_type": "code",
   "execution_count": null,
   "metadata": {},
   "outputs": [],
   "source": [
    "# Save before you run this cell!\n",
    "!!jupyter nbconvert *.ipynb"
   ]
  },
  {
   "cell_type": "markdown",
   "metadata": {},
   "source": [
    "## Optional Enhancements\n",
    "\n",
    "This project focuses on learning various network architectures for machine translation, but we don't evaluate the models according to best practices by splitting the data into separate test & training sets -- so the model accuracy is overstated. Use the [`sklearn.model_selection.train_test_split()`](http://scikit-learn.org/stable/modules/generated/sklearn.model_selection.train_test_split.html) function to create separate training & test datasets, then retrain each of the models using only the training set and evaluate the prediction accuracy using the hold out test set. Does the \"best\" model change?"
   ]
  }
 ],
 "metadata": {
  "kernelspec": {
   "display_name": "Python 3",
   "language": "python",
   "name": "python3"
  },
  "language_info": {
   "codemirror_mode": {
    "name": "ipython",
    "version": 3
   },
   "file_extension": ".py",
   "mimetype": "text/x-python",
   "name": "python",
   "nbconvert_exporter": "python",
   "pygments_lexer": "ipython3",
   "version": "3.6.3"
  }
 },
 "nbformat": 4,
 "nbformat_minor": 1
}
